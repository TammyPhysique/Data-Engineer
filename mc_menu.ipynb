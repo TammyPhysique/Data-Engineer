{
 "cells": [
  {
   "cell_type": "markdown",
   "id": "80be2f46",
   "metadata": {},
   "source": [
    "# McMenu\n",
    "\n",
    "Wat staat er allemaal op het menu?"
   ]
  },
  {
   "cell_type": "code",
   "execution_count": null,
   "id": "95b349fd",
   "metadata": {},
   "outputs": [],
   "source": [
    "import pandas as pd\n",
    "import matplotlib.pyplot as plt\n",
    "df = pd.read_csv(\"mc_menu_final.csv\")\n",
    "df = Menu_Final[Menu_Final[\"Category\"] == \"Smoothies & Shakes\"]\n"
   ]
  },
  {
   "cell_type": "markdown",
   "id": "754d6a24",
   "metadata": {},
   "source": [
    "Het totale vetpercentage smoothies:"
   ]
  },
  {
   "cell_type": "code",
   "execution_count": null,
   "id": "8e4bcd96",
   "metadata": {},
   "outputs": [],
   "source": [
    "plt.bar(x = df[\"Item\"], y = df[\"Total fat\"])\n",
    "plt.xticks(rotation = 90)\n",
    "plt.title(\"Check for fat in products\") \n",
    "plt.show()"
   ]
  },
  {
   "cell_type": "markdown",
   "id": "1384cb9e",
   "metadata": {},
   "source": [
    "Een aantal producten zijn niet goed te lezen, deze grafiek klopt dus niet helemaal.\n",
    "Percentage aan callorieen:"
   ]
  },
  {
   "cell_type": "code",
   "execution_count": null,
   "id": "cfdbac16",
   "metadata": {},
   "outputs": [],
   "source": [
    "plt.bar(x = ser_clean[\"Item\"],\n",
    "        height = ser_clean[\"Calories\"])\n",
    "\n",
    "plt.xticks(rotation=90, horizontalaligment=\"center\")"
   ]
  },
  {
   "cell_type": "code",
   "execution_count": null,
   "id": "234685f8",
   "metadata": {},
   "outputs": [],
   "source": []
  }
 ],
 "metadata": {
  "kernelspec": {
   "display_name": "Python 3 (ipykernel)",
   "language": "python",
   "name": "python3"
  },
  "language_info": {
   "codemirror_mode": {
    "name": "ipython",
    "version": 3
   },
   "file_extension": ".py",
   "mimetype": "text/x-python",
   "name": "python",
   "nbconvert_exporter": "python",
   "pygments_lexer": "ipython3",
   "version": "3.10.5"
  }
 },
 "nbformat": 4,
 "nbformat_minor": 5
}
