{
 "cells": [
  {
   "cell_type": "markdown",
   "id": "a4067375",
   "metadata": {},
   "source": [
    "In deze Jupyter Notebook onderzoeken we hoe het Monty Hall probleem werkt. Dit is een bekend wiskundig probleem wat op het eerste gezicht erg tegenintuïtief lijkt, en daarom wiskundigen al jarenlang bezig houdt."
   ]
  },
  {
   "cell_type": "markdown",
   "id": "1a13b5d7",
   "metadata": {},
   "source": [
    "## Definitie van het probleem\n",
    "\n",
    "\n",
    "Het Monty Hall probleem dankt zijn naam aan de host van een een Amerikaanse spelshow. Het spel werkte als volgt: in de studio staan drie deuren, achter 1 van de deuren ligt een zak geld, achter de andere twee staan geiten. Deelnemers weten niet wat achter welke deur staat, en moeten 1 van de deuren kiezen. Wat er achter de deur ligt mogen ze mee naar huis nemen. \n",
    "\n",
    "Als de deelnemer een deur gekozen heeft opent de presentator 1 van de andere deuren. De geopende deur bevat altijd een geit. De deelnemer staat nu voor een keuze: blijf je bij de deur die je gekozen hebt, of wissel je van deur."
   ]
  },
  {
   "cell_type": "code",
   "execution_count": 1,
   "id": "7da2e2b5",
   "metadata": {},
   "outputs": [],
   "source": [
    "import random"
   ]
  },
  {
   "cell_type": "code",
   "execution_count": 2,
   "id": "4b16b972",
   "metadata": {},
   "outputs": [],
   "source": [
    "def play_scenario(behaviour, amount_of_doors=3):\n",
    "    \"\"\"\n",
    "        Simulate the Monty Hall problem. The `behaviour` argument\n",
    "        is a string that is either \"stay\" or \"switch\".\n",
    "        The function returns a boolean on whether you have\n",
    "        won the game or not.\n",
    "    \"\"\"\n",
    "    prize_door = random.randint(1, amount_of_doors)\n",
    "    \n",
    "    # Your choice doesn't really matter, since it's all random.\n",
    "    your_first_choice = random.randint(1, amount_of_doors)\n",
    "    \n",
    "    # The quizmaster now reveals all doors except for two (your choice and one other door)\n",
    "    # so you make the decision here now.\n",
    "    if your_first_choice == prize_door:\n",
    "        return (behaviour == 'stay')\n",
    "    else:\n",
    "        return (behaviour == 'switch')"
   ]
  },
  {
   "cell_type": "markdown",
   "id": "4be61231",
   "metadata": {},
   "source": [
    "Met deze functie gaan we simulaties runnen om te controleren of de Monty Hall problem klopt. Heeft het zin om te switchen van deur, of maakt het niet uit omdat het toch twee deuren zijn en de kans op de juiste dus 50/50 is?"
   ]
  },
  {
   "cell_type": "markdown",
   "id": "f98c91e5",
   "metadata": {},
   "source": [
    "## Simulaties van het spel\n",
    "\n",
    "In dit stuk gaan we de spelshow simuleren. We runnen hiervoor tienduizend simulaties."
   ]
  },
  {
   "cell_type": "code",
   "execution_count": 3,
   "id": "78cc2f64",
   "metadata": {},
   "outputs": [],
   "source": [
    "SIMULATIONS = 100000"
   ]
  },
  {
   "cell_type": "code",
   "execution_count": 4,
   "id": "875f4f81",
   "metadata": {},
   "outputs": [],
   "source": [
    "def run_simulation(amount_of_doors):\n",
    "    \"\"\"\n",
    "        Execute the Monty Hall problem many, many times to get an estimation of the distribution of odds.\n",
    "    \"\"\"\n",
    "    switch, stay = 0, 0\n",
    "    \n",
    "    for _ in range(SIMULATIONS):\n",
    "        if play_scenario(\"switch\", amount_of_doors):\n",
    "            # We switched and won!\n",
    "            switch += 1\n",
    "        else:\n",
    "            # It would've been better to stay.\n",
    "            stay += 1\n",
    "    return (\n",
    "        switch / SIMULATIONS,\n",
    "        stay   / SIMULATIONS\n",
    "    )"
   ]
  },
  {
   "cell_type": "markdown",
   "id": "91f1090f",
   "metadata": {},
   "source": [
    "#### Monty Hall Probleem met 3 deuren\n",
    "\n",
    "We voeren de test uit met 3 deuren in totaal, en bekijken het resultaat."
   ]
  },
  {
   "cell_type": "code",
   "execution_count": 5,
   "id": "71852a29",
   "metadata": {},
   "outputs": [
    {
     "name": "stdout",
     "output_type": "stream",
     "text": [
      "66.594%\t of the time, it is better to switch.\n",
      "33.406%\t of the time, it is better to stay.\n"
     ]
    }
   ],
   "source": [
    "switch, stay = run_simulation(3)\n",
    "\n",
    "print(str(100*switch)[:6] + \"%\\t of the time, it is better to switch.\")\n",
    "print(str(100*stay)[:6] + \"%\\t of the time, it is better to stay.\")"
   ]
  },
  {
   "cell_type": "markdown",
   "id": "95364723",
   "metadata": {},
   "source": [
    "#### Monty Hall Probleem met 100 deuren\n",
    "\n",
    "Als we het experiment uitvoeren met 100 deuren, dan zie je algauw hoeveel verschil het maakt. Een simulatie van 100 deuren geeft ook een hoop meer intuïtie over hoe het Monty Hall Probleem werkt."
   ]
  },
  {
   "cell_type": "code",
   "execution_count": 6,
   "id": "99161a73",
   "metadata": {},
   "outputs": [
    {
     "name": "stdout",
     "output_type": "stream",
     "text": [
      "98.995%\t of the time, it is better to switch.\n",
      "1.005%\t of the time, it is better to stay.\n"
     ]
    }
   ],
   "source": [
    "switch, stay = run_simulation(100)\n",
    "\n",
    "print(str(100*switch)[:6] + \"%\\t of the time, it is better to switch.\")\n",
    "print(str(100*stay)[:6] + \"%\\t of the time, it is better to stay.\")"
   ]
  },
  {
   "cell_type": "code",
   "execution_count": null,
   "id": "8b54672a",
   "metadata": {},
   "outputs": [],
   "source": []
  }
 ],
 "metadata": {
  "kernelspec": {
   "display_name": "Python 3 (ipykernel)",
   "language": "python",
   "name": "python3"
  },
  "language_info": {
   "codemirror_mode": {
    "name": "ipython",
    "version": 3
   },
   "file_extension": ".py",
   "mimetype": "text/x-python",
   "name": "python",
   "nbconvert_exporter": "python",
   "pygments_lexer": "ipython3",
   "version": "3.9.12"
  }
 },
 "nbformat": 4,
 "nbformat_minor": 5
}
