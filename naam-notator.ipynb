{
 "cells": [
  {
   "cell_type": "code",
   "execution_count": 1,
   "id": "efa694b5",
   "metadata": {},
   "outputs": [
    {
     "name": "stdout",
     "output_type": "stream",
     "text": [
      "Wat is jouw naam? Tamara\n",
      "Hallo Tamara!\n"
     ]
    }
   ],
   "source": [
    "naam = input(\"Wat is jouw naam? \")\n",
    "print(\"Hallo \" + naam + \"!\")"
   ]
  },
  {
   "cell_type": "code",
   "execution_count": 2,
   "id": "9ae38942",
   "metadata": {},
   "outputs": [
    {
     "name": "stdout",
     "output_type": "stream",
     "text": [
      "Tamara\n"
     ]
    }
   ],
   "source": [
    "print(\"Tamara\")"
   ]
  },
  {
   "cell_type": "code",
   "execution_count": 3,
   "id": "86797b53",
   "metadata": {},
   "outputs": [
    {
     "data": {
      "text/plain": [
       "'Tamara'"
      ]
     },
     "execution_count": 3,
     "metadata": {},
     "output_type": "execute_result"
    }
   ],
   "source": [
    "naam"
   ]
  },
  {
   "cell_type": "code",
   "execution_count": null,
   "id": "ec052cef",
   "metadata": {},
   "outputs": [],
   "source": []
  }
 ],
 "metadata": {
  "kernelspec": {
   "display_name": "Python 3 (ipykernel)",
   "language": "python",
   "name": "python3"
  },
  "language_info": {
   "codemirror_mode": {
    "name": "ipython",
    "version": 3
   },
   "file_extension": ".py",
   "mimetype": "text/x-python",
   "name": "python",
   "nbconvert_exporter": "python",
   "pygments_lexer": "ipython3",
   "version": "3.9.12"
  }
 },
 "nbformat": 4,
 "nbformat_minor": 5
}
