{
 "cells": [
  {
   "cell_type": "markdown",
   "id": "16442ea4",
   "metadata": {},
   "source": [
    "# Coolste document ter wereld\n",
    "\n",
    "Hallo, mijn naam is __Binkie de Beer__ en ik houd van eten! Mijn favoriete gerechten zijn:\n",
    "\n",
    "* Gebakken vis;\n",
    "* Gebraden vis;\n",
    "* Gepofte vis met veel pindasaus;\n",
    "\n",
    "# Wat ik hier doe\n",
    "\n",
    "Ik ben een programmeur! Dit doe ik voornamelijk  ik intelligent ben. Kijk maar!\n",
    "\n",
    "1. Ik kan python programeren;\n",
    "2. Ik kan HTML schrijven;\n",
    "3. Ik kan Markdown schrijven;\n",
    "4. Ik kan vier dingen opsommen!\n",
    "\n",
    "Ik ben de inteliigenste beer die je ooit in je leven zult tegenkomen! Geloof je me niet? [Google het maar](http://google.com), dan zul je het zelf zien!"
   ]
  },
  {
   "cell_type": "code",
   "execution_count": 3,
   "id": "e09ca398",
   "metadata": {},
   "outputs": [
    {
     "name": "stdout",
     "output_type": "stream",
     "text": [
      "wauw!\n"
     ]
    }
   ],
   "source": [
    "print(\"wauw!\")"
   ]
  },
  {
   "cell_type": "code",
   "execution_count": null,
   "id": "d81ae19e",
   "metadata": {},
   "outputs": [],
   "source": []
  }
 ],
 "metadata": {
  "kernelspec": {
   "display_name": "Python 3 (ipykernel)",
   "language": "python",
   "name": "python3"
  },
  "language_info": {
   "codemirror_mode": {
    "name": "ipython",
    "version": 3
   },
   "file_extension": ".py",
   "mimetype": "text/x-python",
   "name": "python",
   "nbconvert_exporter": "python",
   "pygments_lexer": "ipython3",
   "version": "3.9.12"
  }
 },
 "nbformat": 4,
 "nbformat_minor": 5
}
