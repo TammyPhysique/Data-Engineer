{
 "cells": [
  {
   "cell_type": "code",
   "execution_count": 1,
   "id": "d68b434b",
   "metadata": {},
   "outputs": [],
   "source": [
    "import random"
   ]
  },
  {
   "cell_type": "code",
   "execution_count": 2,
   "id": "b9617b09",
   "metadata": {},
   "outputs": [
    {
     "name": "stdout",
     "output_type": "stream",
     "text": [
      "Wat is jouw naam? Tamara\n",
      "Wat is jouw favoriete meubelstuk? chair\n",
      "welk voorwerp uit de keuken heb je het laatste gebruikt? mes\n",
      "Wat is je lievenlingseten? spinazie\n",
      " Wat is je lievelingskleur? red\n"
     ]
    }
   ],
   "source": [
    "naam = input(\"Wat is jouw naam? \")\n",
    "meubelstuk = input(\"Wat is jouw favoriete meubelstuk? \")\n",
    "keukengerei = input(\"welk voorwerp uit de keuken heb je het laatste gebruikt? \")\n",
    "voedsel = input(\"Wat is je lievelingseten? \")\n",
    "kleur = input(\" Wat is je lievelingskleur? \")"
   ]
  },
  {
   "cell_type": "code",
   "execution_count": 4,
   "id": "81701e70",
   "metadata": {},
   "outputs": [],
   "source": [
    "def genereer_rapper_naam(naam, kleur, gek_woord):\n",
    "    voorstukje = random.choice([\"Lil'\", \"Big\", kleur, \"Mac\" , \"MC\"])\n",
    "\n",
    "    if random.random() < 0.25:\n",
    "        return voorstukje + ' \"' + naam + '\" '  + gek_woord\n",
    "    else:\n",
    "        return voorstukje + ' ' + gek_woord"
   ]
  },
  {
   "cell_type": "code",
   "execution_count": 5,
   "id": "ba5ae708",
   "metadata": {},
   "outputs": [
    {
     "name": "stdout",
     "output_type": "stream",
     "text": [
      "Jouw rappernaam is red mes\n"
     ]
    }
   ],
   "source": [
    "gek_woord = random.choice([meubelstuk, keukengerei, voedsel])\n",
    "rappernaam = genereer_rapper_naam(naam, kleur, gek_woord)\n",
    "print(\"Jouw rappernaam is \" + rappernaam)"
   ]
  },
  {
   "cell_type": "code",
   "execution_count": null,
   "id": "dd58fad4",
   "metadata": {},
   "outputs": [],
   "source": []
  }
 ],
 "metadata": {
  "kernelspec": {
   "display_name": "Python 3 (ipykernel)",
   "language": "python",
   "name": "python3"
  },
  "language_info": {
   "codemirror_mode": {
    "name": "ipython",
    "version": 3
   },
   "file_extension": ".py",
   "mimetype": "text/x-python",
   "name": "python",
   "nbconvert_exporter": "python",
   "pygments_lexer": "ipython3",
   "version": "3.9.12"
  }
 },
 "nbformat": 4,
 "nbformat_minor": 5
}
