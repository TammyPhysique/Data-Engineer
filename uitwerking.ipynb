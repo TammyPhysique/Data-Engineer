{
 "cells": [
  {
   "cell_type": "markdown",
   "id": "f796f770",
   "metadata": {},
   "source": [
    "# World Health Statistics 2020\n",
    "Hieronder een overzicht over alle gezondheidsstatistieke waaronder levensverwachtingen en ziektes. \n",
    "\n",
    "Hieronder ziet u een mooi overzicht waarin u kunt zien hoe groot de kans is om tussen de 30 en de exacte leeftijd van 70 te overlijden aan hart- en vaatziekten, kanker, diabetes of chronische luchtwegaandoeningen."
   ]
  },
  {
   "cell_type": "code",
   "execution_count": 4,
   "id": "4e64e99e",
   "metadata": {
    "scrolled": true
   },
   "outputs": [
    {
     "data": {
      "text/html": [
       "<div>\n",
       "<style scoped>\n",
       "    .dataframe tbody tr th:only-of-type {\n",
       "        vertical-align: middle;\n",
       "    }\n",
       "\n",
       "    .dataframe tbody tr th {\n",
       "        vertical-align: top;\n",
       "    }\n",
       "\n",
       "    .dataframe thead th {\n",
       "        text-align: right;\n",
       "    }\n",
       "</style>\n",
       "<table border=\"1\" class=\"dataframe\">\n",
       "  <thead>\n",
       "    <tr style=\"text-align: right;\">\n",
       "      <th></th>\n",
       "      <th>Location</th>\n",
       "      <th>Period</th>\n",
       "      <th>Indicator</th>\n",
       "      <th>Dim1</th>\n",
       "      <th>First Tooltip</th>\n",
       "    </tr>\n",
       "  </thead>\n",
       "  <tbody>\n",
       "    <tr>\n",
       "      <th>0</th>\n",
       "      <td>Afghanistan</td>\n",
       "      <td>2016</td>\n",
       "      <td>Probability (%) of dying between age 30 and ex...</td>\n",
       "      <td>Both sexes</td>\n",
       "      <td>29.8</td>\n",
       "    </tr>\n",
       "    <tr>\n",
       "      <th>1</th>\n",
       "      <td>Afghanistan</td>\n",
       "      <td>2016</td>\n",
       "      <td>Probability (%) of dying between age 30 and ex...</td>\n",
       "      <td>Male</td>\n",
       "      <td>31.8</td>\n",
       "    </tr>\n",
       "    <tr>\n",
       "      <th>2</th>\n",
       "      <td>Afghanistan</td>\n",
       "      <td>2016</td>\n",
       "      <td>Probability (%) of dying between age 30 and ex...</td>\n",
       "      <td>Female</td>\n",
       "      <td>27.7</td>\n",
       "    </tr>\n",
       "    <tr>\n",
       "      <th>3</th>\n",
       "      <td>Afghanistan</td>\n",
       "      <td>2015</td>\n",
       "      <td>Probability (%) of dying between age 30 and ex...</td>\n",
       "      <td>Both sexes</td>\n",
       "      <td>29.8</td>\n",
       "    </tr>\n",
       "    <tr>\n",
       "      <th>4</th>\n",
       "      <td>Afghanistan</td>\n",
       "      <td>2015</td>\n",
       "      <td>Probability (%) of dying between age 30 and ex...</td>\n",
       "      <td>Male</td>\n",
       "      <td>31.9</td>\n",
       "    </tr>\n",
       "    <tr>\n",
       "      <th>...</th>\n",
       "      <td>...</td>\n",
       "      <td>...</td>\n",
       "      <td>...</td>\n",
       "      <td>...</td>\n",
       "      <td>...</td>\n",
       "    </tr>\n",
       "    <tr>\n",
       "      <th>2740</th>\n",
       "      <td>Zimbabwe</td>\n",
       "      <td>2005</td>\n",
       "      <td>Probability (%) of dying between age 30 and ex...</td>\n",
       "      <td>Male</td>\n",
       "      <td>22.1</td>\n",
       "    </tr>\n",
       "    <tr>\n",
       "      <th>2741</th>\n",
       "      <td>Zimbabwe</td>\n",
       "      <td>2005</td>\n",
       "      <td>Probability (%) of dying between age 30 and ex...</td>\n",
       "      <td>Female</td>\n",
       "      <td>22.9</td>\n",
       "    </tr>\n",
       "    <tr>\n",
       "      <th>2742</th>\n",
       "      <td>Zimbabwe</td>\n",
       "      <td>2000</td>\n",
       "      <td>Probability (%) of dying between age 30 and ex...</td>\n",
       "      <td>Both sexes</td>\n",
       "      <td>21.6</td>\n",
       "    </tr>\n",
       "    <tr>\n",
       "      <th>2743</th>\n",
       "      <td>Zimbabwe</td>\n",
       "      <td>2000</td>\n",
       "      <td>Probability (%) of dying between age 30 and ex...</td>\n",
       "      <td>Male</td>\n",
       "      <td>21.6</td>\n",
       "    </tr>\n",
       "    <tr>\n",
       "      <th>2744</th>\n",
       "      <td>Zimbabwe</td>\n",
       "      <td>2000</td>\n",
       "      <td>Probability (%) of dying between age 30 and ex...</td>\n",
       "      <td>Female</td>\n",
       "      <td>21.7</td>\n",
       "    </tr>\n",
       "  </tbody>\n",
       "</table>\n",
       "<p>2745 rows × 5 columns</p>\n",
       "</div>"
      ],
      "text/plain": [
       "         Location  Period                                          Indicator  \\\n",
       "0     Afghanistan    2016  Probability (%) of dying between age 30 and ex...   \n",
       "1     Afghanistan    2016  Probability (%) of dying between age 30 and ex...   \n",
       "2     Afghanistan    2016  Probability (%) of dying between age 30 and ex...   \n",
       "3     Afghanistan    2015  Probability (%) of dying between age 30 and ex...   \n",
       "4     Afghanistan    2015  Probability (%) of dying between age 30 and ex...   \n",
       "...           ...     ...                                                ...   \n",
       "2740     Zimbabwe    2005  Probability (%) of dying between age 30 and ex...   \n",
       "2741     Zimbabwe    2005  Probability (%) of dying between age 30 and ex...   \n",
       "2742     Zimbabwe    2000  Probability (%) of dying between age 30 and ex...   \n",
       "2743     Zimbabwe    2000  Probability (%) of dying between age 30 and ex...   \n",
       "2744     Zimbabwe    2000  Probability (%) of dying between age 30 and ex...   \n",
       "\n",
       "            Dim1  First Tooltip  \n",
       "0     Both sexes           29.8  \n",
       "1           Male           31.8  \n",
       "2         Female           27.7  \n",
       "3     Both sexes           29.8  \n",
       "4           Male           31.9  \n",
       "...          ...            ...  \n",
       "2740        Male           22.1  \n",
       "2741      Female           22.9  \n",
       "2742  Both sexes           21.6  \n",
       "2743        Male           21.6  \n",
       "2744      Female           21.7  \n",
       "\n",
       "[2745 rows x 5 columns]"
      ]
     },
     "execution_count": 4,
     "metadata": {},
     "output_type": "execute_result"
    }
   ],
   "source": [
    "import numpy as np\n",
    "import pandas as pd\n",
    "import datetime as dt\n",
    "import seaborn as sns\n",
    "import matplotlib.pyplot as plt\n",
    "%matplotlib inline\n",
    "\n",
    "WHS = pd.read_csv(\"30-70cancerChdEtc.csv\")\n",
    "WHS\n",
    "\n",
    "\n",
    "df = WHS\n",
    "df.drop_duplicates(subset=None, keep='first', inplace=False, ignore_index=False)\n",
    "df"
   ]
  },
  {
   "cell_type": "markdown",
   "id": "7f7118ca",
   "metadata": {},
   "source": [
    "Hieronder kunt u zien op hoeveel locaties er onderzoek is gedaan naar de kans om te sterven tusen 30 en 70:"
   ]
  },
  {
   "cell_type": "code",
   "execution_count": 6,
   "id": "d4f8fc97",
   "metadata": {},
   "outputs": [
    {
     "data": {
      "text/plain": [
       "184"
      ]
     },
     "execution_count": 6,
     "metadata": {},
     "output_type": "execute_result"
    }
   ],
   "source": [
    "len(list(np.sort(WHS['Location'].unique())[:]))"
   ]
  },
  {
   "cell_type": "markdown",
   "id": "c57fc7cd",
   "metadata": {},
   "source": [
    "Hieronder kunt u zien wat het hoogste percentage is per jaartal:"
   ]
  },
  {
   "cell_type": "code",
   "execution_count": 10,
   "id": "7ca0a990",
   "metadata": {},
   "outputs": [
    {
     "data": {
      "text/plain": [
       "<AxesSubplot:xlabel='Period', ylabel='First Tooltip'>"
      ]
     },
     "execution_count": 10,
     "metadata": {},
     "output_type": "execute_result"
    },
    {
     "data": {
      "image/png": "[encoded data removed]",
      "text/plain": [
       "<Figure size 432x288 with 1 Axes>"
      ]
     },
     "metadata": {
      "needs_background": "light"
     },
     "output_type": "display_data"
    }
   ],
   "source": [
    "sns.scatterplot(x = 'Period', y = 'First Tooltip', data =df)"
   ]
  },
  {
   "cell_type": "code",
   "execution_count": null,
   "id": "4a692685",
   "metadata": {},
   "outputs": [],
   "source": [
    "Hieronder ziet uw de percentages per geslacht:"
   ]
  },
  {
   "cell_type": "code",
   "execution_count": 118,
   "id": "2c7a6a50",
   "metadata": {},
   "outputs": [
    {
     "data": {
      "text/plain": [
       "<AxesSubplot:xlabel='Dim1', ylabel='First Tooltip'>"
      ]
     },
     "execution_count": 118,
     "metadata": {},
     "output_type": "execute_result"
    },
    {
     "data": {
      "image/png": "[encoded data removed]",
      "text/plain": [
       "<Figure size 432x288 with 1 Axes>"
      ]
     },
     "metadata": {
      "needs_background": "light"
     },
     "output_type": "display_data"
    }
   ],
   "source": [
    "sns.scatterplot(x = 'Dim1', y = 'First Tooltip', data =WHS)"
   ]
  },
  {
   "cell_type": "markdown",
   "id": "2941b034",
   "metadata": {},
   "source": [
    "## HIV infecties\n",
    "Hoeveel nieuwe infecties komen erbij ieder jaar? De metingen zijn het gemiddelde onder 1000 ongeinfecteerde mensen. In de kolom \"First Tooltip\" vind u de precentages.\n",
    "\n",
    "Hieronder kunt u het complete overzicht vinden met alle data. "
   ]
  },
  {
   "cell_type": "code",
   "execution_count": 66,
   "id": "03c396f7",
   "metadata": {},
   "outputs": [
    {
     "data": {
      "text/html": [
       "<div>\n",
       "<style scoped>\n",
       "    .dataframe tbody tr th:only-of-type {\n",
       "        vertical-align: middle;\n",
       "    }\n",
       "\n",
       "    .dataframe tbody tr th {\n",
       "        vertical-align: top;\n",
       "    }\n",
       "\n",
       "    .dataframe thead th {\n",
       "        text-align: right;\n",
       "    }\n",
       "</style>\n",
       "<table border=\"1\" class=\"dataframe\">\n",
       "  <thead>\n",
       "    <tr style=\"text-align: right;\">\n",
       "      <th></th>\n",
       "      <th>Location</th>\n",
       "      <th>Period</th>\n",
       "      <th>Indicator</th>\n",
       "      <th>Dim1</th>\n",
       "      <th>First Tooltip</th>\n",
       "    </tr>\n",
       "  </thead>\n",
       "  <tbody>\n",
       "    <tr>\n",
       "      <th>0</th>\n",
       "      <td>Afghanistan</td>\n",
       "      <td>2019</td>\n",
       "      <td>New HIV infections (per 1000 uninfected popula...</td>\n",
       "      <td>Both sexes</td>\n",
       "      <td>0.04 [0.01-0.15]</td>\n",
       "    </tr>\n",
       "    <tr>\n",
       "      <th>1</th>\n",
       "      <td>Afghanistan</td>\n",
       "      <td>2019</td>\n",
       "      <td>New HIV infections (per 1000 uninfected popula...</td>\n",
       "      <td>Male</td>\n",
       "      <td>0.06 [0.02-0.21]</td>\n",
       "    </tr>\n",
       "    <tr>\n",
       "      <th>2</th>\n",
       "      <td>Afghanistan</td>\n",
       "      <td>2019</td>\n",
       "      <td>New HIV infections (per 1000 uninfected popula...</td>\n",
       "      <td>Female</td>\n",
       "      <td>0.03</td>\n",
       "    </tr>\n",
       "    <tr>\n",
       "      <th>3</th>\n",
       "      <td>Afghanistan</td>\n",
       "      <td>2015</td>\n",
       "      <td>New HIV infections (per 1000 uninfected popula...</td>\n",
       "      <td>Both sexes</td>\n",
       "      <td>0.03 [0.01-0.11]</td>\n",
       "    </tr>\n",
       "    <tr>\n",
       "      <th>4</th>\n",
       "      <td>Afghanistan</td>\n",
       "      <td>2015</td>\n",
       "      <td>New HIV infections (per 1000 uninfected popula...</td>\n",
       "      <td>Male</td>\n",
       "      <td>0.05 [0.02-0.16]</td>\n",
       "    </tr>\n",
       "    <tr>\n",
       "      <th>...</th>\n",
       "      <td>...</td>\n",
       "      <td>...</td>\n",
       "      <td>...</td>\n",
       "      <td>...</td>\n",
       "      <td>...</td>\n",
       "    </tr>\n",
       "    <tr>\n",
       "      <th>2545</th>\n",
       "      <td>Zimbabwe</td>\n",
       "      <td>2005</td>\n",
       "      <td>New HIV infections (per 1000 uninfected popula...</td>\n",
       "      <td>Male</td>\n",
       "      <td>7.36 [5.12-10.23]</td>\n",
       "    </tr>\n",
       "    <tr>\n",
       "      <th>2546</th>\n",
       "      <td>Zimbabwe</td>\n",
       "      <td>2005</td>\n",
       "      <td>New HIV infections (per 1000 uninfected popula...</td>\n",
       "      <td>Female</td>\n",
       "      <td>8.91 [6.2-12.29]</td>\n",
       "    </tr>\n",
       "    <tr>\n",
       "      <th>2547</th>\n",
       "      <td>Zimbabwe</td>\n",
       "      <td>2000</td>\n",
       "      <td>New HIV infections (per 1000 uninfected popula...</td>\n",
       "      <td>Both sexes</td>\n",
       "      <td>11.48 [8.06-15.85]</td>\n",
       "    </tr>\n",
       "    <tr>\n",
       "      <th>2548</th>\n",
       "      <td>Zimbabwe</td>\n",
       "      <td>2000</td>\n",
       "      <td>New HIV infections (per 1000 uninfected popula...</td>\n",
       "      <td>Male</td>\n",
       "      <td>10.44 [7.26-14.5]</td>\n",
       "    </tr>\n",
       "    <tr>\n",
       "      <th>2549</th>\n",
       "      <td>Zimbabwe</td>\n",
       "      <td>2000</td>\n",
       "      <td>New HIV infections (per 1000 uninfected popula...</td>\n",
       "      <td>Female</td>\n",
       "      <td>12.51 [8.7-17.26]</td>\n",
       "    </tr>\n",
       "  </tbody>\n",
       "</table>\n",
       "<p>2550 rows × 5 columns</p>\n",
       "</div>"
      ],
      "text/plain": [
       "         Location  Period                                          Indicator  \\\n",
       "0     Afghanistan    2019  New HIV infections (per 1000 uninfected popula...   \n",
       "1     Afghanistan    2019  New HIV infections (per 1000 uninfected popula...   \n",
       "2     Afghanistan    2019  New HIV infections (per 1000 uninfected popula...   \n",
       "3     Afghanistan    2015  New HIV infections (per 1000 uninfected popula...   \n",
       "4     Afghanistan    2015  New HIV infections (per 1000 uninfected popula...   \n",
       "...           ...     ...                                                ...   \n",
       "2545     Zimbabwe    2005  New HIV infections (per 1000 uninfected popula...   \n",
       "2546     Zimbabwe    2005  New HIV infections (per 1000 uninfected popula...   \n",
       "2547     Zimbabwe    2000  New HIV infections (per 1000 uninfected popula...   \n",
       "2548     Zimbabwe    2000  New HIV infections (per 1000 uninfected popula...   \n",
       "2549     Zimbabwe    2000  New HIV infections (per 1000 uninfected popula...   \n",
       "\n",
       "            Dim1       First Tooltip  \n",
       "0     Both sexes    0.04 [0.01-0.15]  \n",
       "1           Male    0.06 [0.02-0.21]  \n",
       "2         Female                0.03  \n",
       "3     Both sexes    0.03 [0.01-0.11]  \n",
       "4           Male    0.05 [0.02-0.16]  \n",
       "...          ...                 ...  \n",
       "2545        Male   7.36 [5.12-10.23]  \n",
       "2546      Female    8.91 [6.2-12.29]  \n",
       "2547  Both sexes  11.48 [8.06-15.85]  \n",
       "2548        Male   10.44 [7.26-14.5]  \n",
       "2549      Female   12.51 [8.7-17.26]  \n",
       "\n",
       "[2550 rows x 5 columns]"
      ]
     },
     "execution_count": 66,
     "metadata": {},
     "output_type": "execute_result"
    }
   ],
   "source": [
    "dfhiv = pd.read_csv(\"newHivInfections.csv\")\n",
    "dfhiv"
   ]
  },
  {
   "cell_type": "markdown",
   "id": "94e88407",
   "metadata": {},
   "source": [
    "Hoeveel metingen zijn er gedaan op basis van geslacht?"
   ]
  },
  {
   "cell_type": "code",
   "execution_count": 67,
   "id": "9fb36d56",
   "metadata": {},
   "outputs": [
    {
     "data": {
      "text/plain": [
       "Text(0, 0.5, 'Period')"
      ]
     },
     "execution_count": 67,
     "metadata": {},
     "output_type": "execute_result"
    },
    {
     "data": {
      "image/png": "[encoded data removed]",
      "text/plain": [
       "<Figure size 864x576 with 1 Axes>"
      ]
     },
     "metadata": {
      "needs_background": "light"
     },
     "output_type": "display_data"
    }
   ],
   "source": [
    "plt.figure(figsize = (12, 8))\n",
    "sns.violinplot(x = 'Dim1', y = 'Period', data = dfhiv)\n",
    "plt.title(\"Box plots of house values based on ocean proximity\")\n",
    "plt.xlabel(\"Dim1\")\n",
    "plt.ylabel(\"Period\")"
   ]
  },
  {
   "cell_type": "markdown",
   "id": "39f781dc",
   "metadata": {},
   "source": [
    "Nieuwe infecties per periode ( x1000 )"
   ]
  },
  {
   "cell_type": "code",
   "execution_count": 142,
   "id": "903f4327",
   "metadata": {},
   "outputs": [
    {
     "data": {
      "text/plain": [
       "<seaborn.axisgrid.PairGrid at 0x13b33599550>"
      ]
     },
     "execution_count": 142,
     "metadata": {},
     "output_type": "execute_result"
    },
    {
     "data": {
      "text/plain": [
       "<Figure size 864x576 with 0 Axes>"
      ]
     },
     "metadata": {},
     "output_type": "display_data"
    },
    {
     "data": {
      "image/png": "[encoded data removed]",
      "text/plain": [
       "<Figure size 180x180 with 2 Axes>"
      ]
     },
     "metadata": {
      "needs_background": "light"
     },
     "output_type": "display_data"
    }
   ],
   "source": [
    "sns.pairplot(dfhiv)"
   ]
  },
  {
   "cell_type": "markdown",
   "id": "ef3126d6",
   "metadata": {},
   "source": [
    "Hieronder treft u aan de index van de eerste 10 locaties waar metingen zijn gedaan. "
   ]
  },
  {
   "cell_type": "code",
   "execution_count": 140,
   "id": "aea0d401",
   "metadata": {
    "scrolled": false
   },
   "outputs": [
    {
     "data": {
      "text/plain": [
       "Index(['Afghanistan', 'Oman', 'Namibia', 'Nepal', 'Netherlands', 'New Zealand',\n",
       "       'Nicaragua', 'Niger', 'Nigeria', 'Norway', 'Pakistan'],\n",
       "      dtype='object', name='Location')"
      ]
     },
     "execution_count": 140,
     "metadata": {},
     "output_type": "execute_result"
    }
   ],
   "source": [
    "hivl = dfhiv.groupby(['Location'])['Period'].sum().sort_values(ascending=False).head(10).index\n",
    "\n",
    "hivl"
   ]
  },
  {
   "cell_type": "markdown",
   "id": "58d6a4b3",
   "metadata": {},
   "source": [
    "## Levensverwachting bij de geboorte\n",
    "Het komende hoofdstuk ga ik u laten zien hoe hoog de levensverwachtingen zijn bij de geboorte wereldwijd.\n",
    "Als eerste een compleet overzicht van alle gegevens die geregistreerd zijn. "
   ]
  },
  {
   "cell_type": "code",
   "execution_count": 148,
   "id": "da97c067",
   "metadata": {},
   "outputs": [
    {
     "data": {
      "text/html": [
       "<div>\n",
       "<style scoped>\n",
       "    .dataframe tbody tr th:only-of-type {\n",
       "        vertical-align: middle;\n",
       "    }\n",
       "\n",
       "    .dataframe tbody tr th {\n",
       "        vertical-align: top;\n",
       "    }\n",
       "\n",
       "    .dataframe thead th {\n",
       "        text-align: right;\n",
       "    }\n",
       "</style>\n",
       "<table border=\"1\" class=\"dataframe\">\n",
       "  <thead>\n",
       "    <tr style=\"text-align: right;\">\n",
       "      <th></th>\n",
       "      <th>Location</th>\n",
       "      <th>Period</th>\n",
       "      <th>Indicator</th>\n",
       "      <th>Dim1</th>\n",
       "      <th>First Tooltip</th>\n",
       "    </tr>\n",
       "  </thead>\n",
       "  <tbody>\n",
       "    <tr>\n",
       "      <th>0</th>\n",
       "      <td>Africa</td>\n",
       "      <td>2019</td>\n",
       "      <td>Life expectancy at birth (years)</td>\n",
       "      <td>Both sexes</td>\n",
       "      <td>64.49</td>\n",
       "    </tr>\n",
       "    <tr>\n",
       "      <th>1</th>\n",
       "      <td>Africa</td>\n",
       "      <td>2019</td>\n",
       "      <td>Life expectancy at birth (years)</td>\n",
       "      <td>Male</td>\n",
       "      <td>62.37</td>\n",
       "    </tr>\n",
       "    <tr>\n",
       "      <th>2</th>\n",
       "      <td>Africa</td>\n",
       "      <td>2019</td>\n",
       "      <td>Life expectancy at birth (years)</td>\n",
       "      <td>Female</td>\n",
       "      <td>66.65</td>\n",
       "    </tr>\n",
       "    <tr>\n",
       "      <th>3</th>\n",
       "      <td>Africa</td>\n",
       "      <td>2015</td>\n",
       "      <td>Life expectancy at birth (years)</td>\n",
       "      <td>Both sexes</td>\n",
       "      <td>62.56</td>\n",
       "    </tr>\n",
       "    <tr>\n",
       "      <th>4</th>\n",
       "      <td>Africa</td>\n",
       "      <td>2015</td>\n",
       "      <td>Life expectancy at birth (years)</td>\n",
       "      <td>Male</td>\n",
       "      <td>60.47</td>\n",
       "    </tr>\n",
       "    <tr>\n",
       "      <th>...</th>\n",
       "      <td>...</td>\n",
       "      <td>...</td>\n",
       "      <td>...</td>\n",
       "      <td>...</td>\n",
       "      <td>...</td>\n",
       "    </tr>\n",
       "    <tr>\n",
       "      <th>67</th>\n",
       "      <td>Western Pacific</td>\n",
       "      <td>2010</td>\n",
       "      <td>Life expectancy at birth (years)</td>\n",
       "      <td>Male</td>\n",
       "      <td>72.52</td>\n",
       "    </tr>\n",
       "    <tr>\n",
       "      <th>68</th>\n",
       "      <td>Western Pacific</td>\n",
       "      <td>2010</td>\n",
       "      <td>Life expectancy at birth (years)</td>\n",
       "      <td>Female</td>\n",
       "      <td>78.75</td>\n",
       "    </tr>\n",
       "    <tr>\n",
       "      <th>69</th>\n",
       "      <td>Western Pacific</td>\n",
       "      <td>2000</td>\n",
       "      <td>Life expectancy at birth (years)</td>\n",
       "      <td>Both sexes</td>\n",
       "      <td>72.42</td>\n",
       "    </tr>\n",
       "    <tr>\n",
       "      <th>70</th>\n",
       "      <td>Western Pacific</td>\n",
       "      <td>2000</td>\n",
       "      <td>Life expectancy at birth (years)</td>\n",
       "      <td>Male</td>\n",
       "      <td>69.80</td>\n",
       "    </tr>\n",
       "    <tr>\n",
       "      <th>71</th>\n",
       "      <td>Western Pacific</td>\n",
       "      <td>2000</td>\n",
       "      <td>Life expectancy at birth (years)</td>\n",
       "      <td>Female</td>\n",
       "      <td>75.33</td>\n",
       "    </tr>\n",
       "  </tbody>\n",
       "</table>\n",
       "<p>72 rows × 5 columns</p>\n",
       "</div>"
      ],
      "text/plain": [
       "           Location  Period                         Indicator        Dim1  \\\n",
       "0            Africa    2019  Life expectancy at birth (years)  Both sexes   \n",
       "1            Africa    2019  Life expectancy at birth (years)        Male   \n",
       "2            Africa    2019  Life expectancy at birth (years)      Female   \n",
       "3            Africa    2015  Life expectancy at birth (years)  Both sexes   \n",
       "4            Africa    2015  Life expectancy at birth (years)        Male   \n",
       "..              ...     ...                               ...         ...   \n",
       "67  Western Pacific    2010  Life expectancy at birth (years)        Male   \n",
       "68  Western Pacific    2010  Life expectancy at birth (years)      Female   \n",
       "69  Western Pacific    2000  Life expectancy at birth (years)  Both sexes   \n",
       "70  Western Pacific    2000  Life expectancy at birth (years)        Male   \n",
       "71  Western Pacific    2000  Life expectancy at birth (years)      Female   \n",
       "\n",
       "    First Tooltip  \n",
       "0           64.49  \n",
       "1           62.37  \n",
       "2           66.65  \n",
       "3           62.56  \n",
       "4           60.47  \n",
       "..            ...  \n",
       "67          72.52  \n",
       "68          78.75  \n",
       "69          72.42  \n",
       "70          69.80  \n",
       "71          75.33  \n",
       "\n",
       "[72 rows x 5 columns]"
      ]
     },
     "execution_count": 148,
     "metadata": {},
     "output_type": "execute_result"
    }
   ],
   "source": [
    "WHO = pd.read_csv(\"WHOregionLifeExpectancyAtBirth.csv\")\n",
    "WHO"
   ]
  },
  {
   "cell_type": "markdown",
   "id": "85b6d5b5",
   "metadata": {},
   "source": [
    "Hier ziet u een mooi overzicht wat de verwachtingen zijn per continent waarbij in Europa de hoogste verwachtingen liggen. "
   ]
  },
  {
   "cell_type": "code",
   "execution_count": 154,
   "id": "8a85c3cb",
   "metadata": {},
   "outputs": [
    {
     "data": {
      "image/png": "[encoded data removed]",
      "text/plain": [
       "<Figure size 1080x576 with 1 Axes>"
      ]
     },
     "metadata": {
      "needs_background": "light"
     },
     "output_type": "display_data"
    }
   ],
   "source": [
    "plt.figure(figsize = (15, 8))\n",
    "plt.scatter('Location', 'First Tooltip', data=WHO)\n",
    "plt.xlabel('Location')\n",
    "plt.ylabel('First Tooltip')\n",
    "plt.show()"
   ]
  },
  {
   "cell_type": "markdown",
   "id": "40f80c0e",
   "metadata": {},
   "source": [
    "## Conclusie.\n",
    "Wat we vooral hebben gezien in deze datset dat de waarschijnlijkheid (%) om tussen de 30 en de exacte leeftijd van 70 te overlijden aan hart- en vaatziekten, kanker, diabetes of chronische luchtwegaandoeningen vrij hoog is wereldwijd. Het hoogste percentage ligt zelf op 50% kans. Bij de mannen liggen deze percentages beduidend hoger.\n",
    "Onder de HIV infecties zien we werledwijd nogal wat verschil in percentages. \n",
    "Bij de levensverwachingen zien dat er enorm veel verschil is en dat wij het als Europeanen helemaal niet sclecht doen en de hoogste levensverwachting hebben. \n"
   ]
  }
 ],
 "metadata": {
  "kernelspec": {
   "display_name": "Python 3 (ipykernel)",
   "language": "python",
   "name": "python3"
  },
  "language_info": {
   "codemirror_mode": {
    "name": "ipython",
    "version": 3
   },
   "file_extension": ".py",
   "mimetype": "text/x-python",
   "name": "python",
   "nbconvert_exporter": "python",
   "pygments_lexer": "ipython3",
   "version": "3.9.12"
  }
 },
 "nbformat": 4,
 "nbformat_minor": 5
}
