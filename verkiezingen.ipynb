{
 "cells": [
  {
   "cell_type": "markdown",
   "id": "659b3168",
   "metadata": {},
   "source": [
    "# Er kan er maar één de winnaar zijn\n",
    "\n",
    "Wie heeft er daadwerkelijk gewonnen?"
   ]
  },
  {
   "cell_type": "markdown",
   "id": "ec562f4b",
   "metadata": {},
   "source": [
    "Vervolgens voeren we de code uit om het csv bestand te laden en op te slaan in de variabele data opdat we die kunnen gebruiken voor de volgende exercises:"
   ]
  },
  {
   "cell_type": "code",
   "execution_count": 204,
   "id": "3d16f4b2",
   "metadata": {},
   "outputs": [
    {
     "name": "stdout",
     "output_type": "stream",
     "text": [
      "Stemmen Biden:  77054538\n",
      "Andere stemmen:  2704802\n",
      "Totaal aantal stemmen Trump:  74700516\n"
     ]
    }
   ],
   "source": [
    "import csv\n",
    "\n",
    "data_list = []\n",
    "with open('president_county_candidate.csv') as f:\n",
    "    d = csv.reader(f, delimiter=',')\n",
    "    for data in d:\n",
    "        data_list.append(data)\n",
    "\n",
    "        \n",
    "biden = 0\n",
    "trump = 0\n",
    "other = 0\n",
    "\n",
    "for row in data_list[1:]:\n",
    "    if row[2] == 'Joe Biden':\n",
    "        biden += int(row[4])\n",
    "        \n",
    "    if row[2] == 'Donald Trump':\n",
    "        trump += int(row[4])\n",
    "        \n",
    "    if (row[2] != 'Joe Biden') & (row[2] != 'Donald Trump'):\n",
    "        other += int(row[4])\n",
    "        \n",
    "print(\"Stemmen Biden: \", biden)\n",
    "print(\"Andere stemmen: \", other)\n",
    "\n",
    "total = trump + other\n",
    "\n",
    "print(\"Totaal aantal stemmen Trump: \", total)"
   ]
  },
  {
   "cell_type": "markdown",
   "id": "4d0079d5",
   "metadata": {},
   "source": [
    "Als bovenstaande code hierboven werkt dan zou de onderstaande code moeten werken!"
   ]
  },
  {
   "cell_type": "code",
   "execution_count": 206,
   "id": "350e4bad",
   "metadata": {},
   "outputs": [
    {
     "name": "stdout",
     "output_type": "stream",
     "text": [
      "Biden heeft gewonnen\n"
     ]
    }
   ],
   "source": [
    "if biden > total:\n",
    "    print(\"Biden heeft gewonnen\")\n",
    "elif biden < total:\n",
    "    print(\"Trump heeft gewonnen\")\n",
    "else:\n",
    "    print(\"Biden en Trump hebben evenveel stemmen, dus is er geen winnaar.\")"
   ]
  },
  {
   "cell_type": "code",
   "execution_count": null,
   "id": "2b67e533",
   "metadata": {},
   "outputs": [],
   "source": []
  }
 ],
 "metadata": {
  "kernelspec": {
   "display_name": "Python 3 (ipykernel)",
   "language": "python",
   "name": "python3"
  },
  "language_info": {
   "codemirror_mode": {
    "name": "ipython",
    "version": 3
   },
   "file_extension": ".py",
   "mimetype": "text/x-python",
   "name": "python",
   "nbconvert_exporter": "python",
   "pygments_lexer": "ipython3",
   "version": "3.9.12"
  }
 },
 "nbformat": 4,
 "nbformat_minor": 5
}
